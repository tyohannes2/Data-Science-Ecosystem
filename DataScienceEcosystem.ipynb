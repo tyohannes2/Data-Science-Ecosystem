{
 "cells": [
  {
   "cell_type": "markdown",
   "id": "19bbd270-49e3-443c-86c3-d5d511d34d90",
   "metadata": {},
   "source": [
    "# Data Science Tools and Ecosystem"
   ]
  },
  {
   "cell_type": "markdown",
   "id": "59482c3c-31fc-4a1d-8b21-b9587156f806",
   "metadata": {},
   "source": [
    "In this notebook, Data Science Tools and Ecosystems are summarized."
   ]
  },
  {
   "cell_type": "markdown",
   "id": "56dc9b15-0829-4bbe-b680-f2c272921d8e",
   "metadata": {},
   "source": [
    "**Objective:**\n",
    "- Explore popular languages for Data Science\n",
    "- Understand key concepts of machine learning and its applications.\n",
    "- Learn how to manipulate and analyze data using pandas\n",
    "- Gain insights into data visualizations technique using MAtplotlib and seaborn\n",
    "- Get hands-on experience with Jupyter Notebooks for data analysis."
   ]
  },
  {
   "cell_type": "markdown",
   "id": "185c78b9-2090-49ab-9cd1-68d5710ae292",
   "metadata": {},
   "source": [
    "Some of the popular languages that Data Scientists use are:\n",
    "\n",
    "1. Python\n",
    "2. R\n",
    "3. SQL\n",
    "4. JAVA"
   ]
  },
  {
   "cell_type": "markdown",
   "id": "54140d91-4b6a-4c8f-bb9b-bc6f5bb6cad1",
   "metadata": {},
   "source": [
    "Some of the commonly used libraries used by Data Scientists include:\n",
    "1. NumPy\n",
    "2. Panda\n",
    "3. Scikit-learn\n",
    "4. Matplotlib\n",
    "5. TensorFlow"
   ]
  },
  {
   "cell_type": "markdown",
   "id": "f7358c2f-5ef8-47a0-bc36-eae4cab26429",
   "metadata": {},
   "source": [
    "|Data Science Tools |\n",
    "| ------------------|\n",
    "|Jupyter Notebooks |\n",
    "|R Studio |\n",
    "|VS Code with Python |"
   ]
  },
  {
   "cell_type": "markdown",
   "id": "a1f12040-4b2d-4507-8538-59a69e3c7ea7",
   "metadata": {},
   "source": [
    "### Below are a few examples of evaluating arithmetic expressions in Python"
   ]
  },
  {
   "cell_type": "code",
   "execution_count": 21,
   "id": "e5869711-8e48-460b-8cef-dedbf457bb0e",
   "metadata": {},
   "outputs": [
    {
     "data": {
      "text/plain": [
       "17"
      ]
     },
     "execution_count": 21,
     "metadata": {},
     "output_type": "execute_result"
    }
   ],
   "source": [
    "#This is a simple arithmetic expression to multiply then add integers\n",
    "(3*4)+5"
   ]
  },
  {
   "cell_type": "code",
   "execution_count": 23,
   "id": "45ea9d97-0957-4e14-ab8d-412924b07676",
   "metadata": {},
   "outputs": [
    {
     "data": {
      "text/plain": [
       "3.3333333333333335"
      ]
     },
     "execution_count": 23,
     "metadata": {},
     "output_type": "execute_result"
    }
   ],
   "source": [
    "#This will convert 200 minutes to hours by dividing by 60\n",
    "200 / 60"
   ]
  },
  {
   "cell_type": "markdown",
   "id": "9605ad93-abc9-444d-899e-c2e6f2954c5c",
   "metadata": {},
   "source": [
    "## Author: Thomas Yohannes"
   ]
  },
  {
   "cell_type": "code",
   "execution_count": null,
   "id": "44e2db54-8708-4a6c-95b0-6617665cc4d5",
   "metadata": {},
   "outputs": [],
   "source": []
  }
 ],
 "metadata": {
  "kernelspec": {
   "display_name": "Python [conda env:base] *",
   "language": "python",
   "name": "conda-base-py"
  },
  "language_info": {
   "codemirror_mode": {
    "name": "ipython",
    "version": 3
   },
   "file_extension": ".py",
   "mimetype": "text/x-python",
   "name": "python",
   "nbconvert_exporter": "python",
   "pygments_lexer": "ipython3",
   "version": "3.12.7"
  }
 },
 "nbformat": 4,
 "nbformat_minor": 5
}
